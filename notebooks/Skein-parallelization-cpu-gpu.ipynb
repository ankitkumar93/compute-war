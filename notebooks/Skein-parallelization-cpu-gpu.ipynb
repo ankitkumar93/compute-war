{
 "cells": [
  {
   "cell_type": "code",
   "execution_count": null,
   "metadata": {},
   "outputs": [],
   "source": [
    "import numpy as np\n",
    "import scipy as sp\n",
    "import pandas as pd\n",
    "import matplotlib\n",
    "import matplotlib.pyplot as plt\n",
    "from collections import namedtuple\n",
    "from collections import OrderedDict\n",
    "\n",
    "font = {'family' : 'DejaVu Sans',\n",
    "        'weight': 'normal',\n",
    "        'size'   : 14}\n",
    "\n",
    "matplotlib.rc('font', **font)\n",
    "\n",
    "bar_codes = ['#7293cb', '#e1974c', '#84ba5b', '#d35e60', '#808585', '#9067a7',\n",
    "             '#ab6857', '#ccc210']\n",
    "line_codes = ['#396ab1', '#da7c30', '#3f9651', '#cc2529', '#535154', '#6b4c9a',\n",
    "              '#922428', '#948b3d']"
   ]
  },
  {
   "cell_type": "code",
   "execution_count": null,
   "metadata": {},
   "outputs": [],
   "source": [
    "cpu_timeings = pd.read_csv('resultscpu.txt', sep=' ', header=None)\n",
    "cpu_timeings.columns = ['num_blocks', 'seconds']\n",
    "cpu_timeings.seconds = cpu_timeings.seconds * 1000\n",
    "gpu_timeings = pd.read_csv('resultsgpu.txt', sep=' ', header=None)\n",
    "gpu_timeings.columns = ['num_blocks', 'seconds']\n",
    "gpu_timeings.seconds = gpu_timeings.seconds * 1000"
   ]
  },
  {
   "cell_type": "code",
   "execution_count": null,
   "metadata": {},
   "outputs": [],
   "source": [
    "fig, ax = plt.subplots(1, 1, figsize=(8, 6))\n",
    "ax.plot(cpu_timeings.num_blocks, cpu_timeings.seconds)\n",
    "ax.plot(gpu_timeings.num_blocks, gpu_timeings.seconds, ls='--')\n",
    "\n",
    "\n",
    "gpu_overtake_blocks = None\n",
    "gpu_overtake_blocks = None\n",
    "\n",
    "for g in range(len(gpu_timeings.seconds)):\n",
    "    if gpu_timeings.seconds[g] < cpu_timeings.seconds[g]:\n",
    "        gpu_overtake_blocks = gpu_timeings.num_blocks[g]\n",
    "        gpu_overtake_seconds = gpu_timeings.seconds[g]\n",
    "        print(gpu_overtake_blocks)\n",
    "        print(gpu_overtake_seconds)\n",
    "        break\n",
    "ann_str = \"{} parallel\\nBlocks\".format(gpu_overtake_blocks)\n",
    "ax.annotate(ann_str, xy=(gpu_overtake_blocks, gpu_overtake_seconds),\n",
    "            arrowprops=dict(arrowstyle=\"->\"),\n",
    "            xytext=(-30, +70), textcoords='offset points')\n",
    "ax.legend(('cpu', 'gpu'))\n",
    "ax.set_ylabel('milliseconds')\n",
    "ax.set_xlabel('4k Blocks compleated in parallel')\n",
    "fig.suptitle(\"Skein Hashing on CPU vs GPU\")\n",
    "#plt.show()\n",
    "plt.savefig('skein_hash_cpu_gpu.png')"
   ]
  },
  {
   "cell_type": "code",
   "execution_count": null,
   "metadata": {},
   "outputs": [],
   "source": [
    "for g in range(len(gpu_timeings.seconds)):\n",
    "    if gpu_timeings.seconds[g] < cpu_timeings.seconds[g]:\n",
    "        print(gpu_timeings.seconds[g], gpu_timeings.num_blocks[g], g)\n",
    "        print(cpu_timeings.seconds[g], cpu_timeings.num_blocks[g], g)\n",
    "        break\n",
    "    "
   ]
  },
  {
   "cell_type": "code",
   "execution_count": null,
   "metadata": {},
   "outputs": [],
   "source": [
    "gpu_timeings[40:60]"
   ]
  },
  {
   "cell_type": "code",
   "execution_count": null,
   "metadata": {},
   "outputs": [],
   "source": []
  }
 ],
 "metadata": {
  "kernelspec": {
   "display_name": "Python 3",
   "language": "python",
   "name": "python3"
  },
  "language_info": {
   "codemirror_mode": {
    "name": "ipython",
    "version": 3
   },
   "file_extension": ".py",
   "mimetype": "text/x-python",
   "name": "python",
   "nbconvert_exporter": "python",
   "pygments_lexer": "ipython3",
   "version": "3.6.4"
  }
 },
 "nbformat": 4,
 "nbformat_minor": 2
}
