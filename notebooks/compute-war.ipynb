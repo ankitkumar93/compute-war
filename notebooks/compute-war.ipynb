{
 "cells": [
  {
   "cell_type": "markdown",
   "metadata": {},
   "source": [
    "# Ken CPU Compression lzf"
   ]
  },
  {
   "cell_type": "code",
   "execution_count": null,
   "metadata": {},
   "outputs": [],
   "source": [
    "import numpy as np\n",
    "import scipy as sp\n",
    "import pandas as pd\n",
    "import matplotlib.pyplot as plt"
   ]
  },
  {
   "cell_type": "code",
   "execution_count": null,
   "metadata": {},
   "outputs": [],
   "source": [
    "cpu_lzf = pd.read_csv('../benchmarks/lzf.out', sep='|', header=None)\n",
    "cpu_lzf.columns = ['alg', 'comp_size', 'compress_us', 'decompress_us', 'file', 'block']"
   ]
  },
  {
   "cell_type": "code",
   "execution_count": null,
   "metadata": {},
   "outputs": [],
   "source": [
    "cpu_lzf.describe()"
   ]
  },
  {
   "cell_type": "code",
   "execution_count": null,
   "metadata": {},
   "outputs": [],
   "source": [
    "lzf_file = cpu_lzf.groupby('file').agg(['mean', 'std', 'min', 'max'])"
   ]
  },
  {
   "cell_type": "code",
   "execution_count": null,
   "metadata": {},
   "outputs": [],
   "source": [
    "lzf_file"
   ]
  },
  {
   "cell_type": "code",
   "execution_count": null,
   "metadata": {},
   "outputs": [],
   "source": [
    "cpu_lzf.loc[cpu_lzf['file'] == 'canterbury/xargs.1']"
   ]
  },
  {
   "cell_type": "markdown",
   "metadata": {},
   "source": [
    "## performance seems file dependant"
   ]
  },
  {
   "cell_type": "code",
   "execution_count": null,
   "metadata": {},
   "outputs": [],
   "source": [
    "# first value is an outlier, omitted here\n",
    "index = cpu_lzf.index.values[1:]\n",
    "comp_us = cpu_lzf.compress_us[1:]\n",
    "decomp_us = cpu_lzf.decompress_us[1:]\n",
    "fig = plt.figure(figsize=(16, 12), dpi=80)\n",
    "plt.plot(index, comp_us)\n",
    "plt.plot(index, decomp_us, '--')\n",
    "plt.show()"
   ]
  },
  {
   "cell_type": "code",
   "execution_count": null,
   "metadata": {},
   "outputs": [],
   "source": [
    "fig = plt.figure(figsize=(8, 6), dpi=80)\n",
    "by_size = cpu_lzf.ix[1:,['comp_size', 'compress_us', 'decompress_us']]\n",
    "by_size.sort_values(by=['comp_size'])\n",
    "plt.scatter(by_size.comp_size, by_size.compress_us)\n",
    "plt.show()"
   ]
  },
  {
   "cell_type": "code",
   "execution_count": null,
   "metadata": {},
   "outputs": [],
   "source": [
    "fig = plt.figure(figsize=(8, 6), dpi=80)\n",
    "by_size = cpu_lzf.ix[1:,['comp_size', 'compress_us', 'decompress_us']]\n",
    "by_size.sort_values(by=['comp_size'])\n",
    "plt.scatter(by_size.comp_size, by_size.decompress_us)\n",
    "plt.show()"
   ]
  },
  {
   "cell_type": "code",
   "execution_count": null,
   "metadata": {},
   "outputs": [],
   "source": [
    "lzf_file = cpu_lzf[1:].groupby(['file'])"
   ]
  },
  {
   "cell_type": "code",
   "execution_count": null,
   "metadata": {},
   "outputs": [],
   "source": [
    "h = lzf_file['compress_us'].hist()"
   ]
  },
  {
   "cell_type": "code",
   "execution_count": null,
   "metadata": {},
   "outputs": [],
   "source": [
    "h['canterbury-large/E.coli']"
   ]
  },
  {
   "cell_type": "code",
   "execution_count": null,
   "metadata": {},
   "outputs": [],
   "source": [
    "lzf_file.groups.keys()comp_size\tcompress_us\tdecompress_us\n",
    "lzf_file.get_group('canterbury-large/E.coli')['comp_size'].plot.hist()"
   ]
  },
  {
   "cell_type": "code",
   "execution_count": null,
   "metadata": {},
   "outputs": [],
   "source": [
    "# lzf_file.get_group('canterbury-large/E.coli')\n",
    "f, axarr = plt.subplots(25, 3, figsize=(12, 128))\n",
    "#f.subplots_adjust(hspace=10)\n",
    "metrics = ['comp_size', 'compress_us', 'decompress_us']\n",
    "files = list(lzf_file.groups.keys())\n",
    "for f in range(len(files)):\n",
    "    for m in range(len(metrics)):\n",
    "        axarr[f, m].hist(lzf_file.get_group(files[f])[metrics[m]])\n",
    "        axarr[f, m].set_title(metrics[m])\n",
    "    axarr[f, 0].set_ylabel(files[f])\n",
    "plt.show()"
   ]
  },
  {
   "cell_type": "code",
   "execution_count": null,
   "metadata": {},
   "outputs": [],
   "source": [
    "# lzf_file.get_group('canterbury-large/E.coli')\n",
    "f, axarr = plt.subplots(1, 3, figsize=(12, 8))\n",
    "#f.subplots_adjust(hspace=10)\n",
    "metrics = ['comp_size', 'compress_us', 'decompress_us']\n",
    "files = list(lzf_file.groups.keys())\n",
    "for f in range(len(files)):\n",
    "    for m in range(len(metrics)):\n",
    "        axarr[m].hist(lzf_file.get_group(files[f])[metrics[m]])\n",
    "        axarr[m].set_title(metrics[m])\n",
    "    #axarr[f, 0].set_ylabel(files[f])\n",
    "plt.show()"
   ]
  },
  {
   "cell_type": "code",
   "execution_count": null,
   "metadata": {},
   "outputs": [],
   "source": [
    "# lzf_file.get_group('canterbury-large/E.coli')\n",
    "f, axarr = plt.subplots(25, 3, figsize=(12, 128))\n",
    "#f.subplots_adjust(hspace=10)\n",
    "metrics = ['comp_size', 'compress_us', 'decompress_us']\n",
    "files = list(lzf_file.groups.keys())\n",
    "for f in range(len(files)):\n",
    "    for m in range(len(metrics)):\n",
    "        axarr[f, m].scatter(lzf_file.get_group(files[f]).index.values,\n",
    "                         lzf_file.get_group(files[f])[metrics[m]], alpha=0.1)\n",
    "        axarr[f, m].set_title(metrics[m])\n",
    "    axarr[f, 0].set_ylabel(files[f])\n",
    "plt.show()"
   ]
  },
  {
   "cell_type": "code",
   "execution_count": null,
   "metadata": {},
   "outputs": [],
   "source": [
    "# lzf_file.get_group('canterbury-large/E.coli')\n",
    "f, axarr = plt.subplots(25, 2, figsize=(12, 128))\n",
    "#f.subplots_adjust(hspace=10)\n",
    "metrics = ['compress_us', 'decompress_us']\n",
    "files = list(lzf_file.groups.keys())\n",
    "for f in range(len(files)):\n",
    "    for m in range(len(metrics)):\n",
    "        comp_size_vals = lzf_file.get_group(files[f])['comp_size']\n",
    "        metrics_vals = lzf_file.get_group(files[f])[metrics[m]]\n",
    "        fit = np.polyfit(comp_size_vals, metrics_vals, deg=1)\n",
    "        \n",
    "        axarr[f, m].scatter(comp_size_vals, metrics_vals, alpha=0.1)\n",
    "        axarr[f, m].scatter(comp_size_vals, np.polyval(fit, comp_size_vals))\n",
    "        axarr[f, m].set_title(metrics[m])\n",
    "    axarr[f, 0].set_ylabel(files[f])\n",
    "plt.show()"
   ]
  },
  {
   "cell_type": "code",
   "execution_count": null,
   "metadata": {},
   "outputs": [],
   "source": []
  }
 ],
 "metadata": {
  "kernelspec": {
   "display_name": "Python 3",
   "language": "python",
   "name": "python3"
  },
  "language_info": {
   "codemirror_mode": {
    "name": "ipython",
    "version": 3
   },
   "file_extension": ".py",
   "mimetype": "text/x-python",
   "name": "python",
   "nbconvert_exporter": "python",
   "pygments_lexer": "ipython3",
   "version": "3.6.4"
  }
 },
 "nbformat": 4,
 "nbformat_minor": 2
}
