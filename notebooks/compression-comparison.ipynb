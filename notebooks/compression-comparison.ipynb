{
 "cells": [
  {
   "cell_type": "code",
   "execution_count": null,
   "metadata": {},
   "outputs": [],
   "source": [
    "import numpy as np\n",
    "import scipy as sp\n",
    "import pandas as pd\n",
    "import matplotlib.pyplot as plt\n",
    "from collections import namedtuple"
   ]
  },
  {
   "cell_type": "code",
   "execution_count": null,
   "metadata": {},
   "outputs": [],
   "source": [
    "cpu_lzf = pd.read_csv('../benchmarks/lzf.out', sep='|', header=None)\n",
    "cpu_lzf.columns = ['alg', 'comp_size', 'compress_us', 'decompress_us', 'file', 'block']"
   ]
  },
  {
   "cell_type": "code",
   "execution_count": null,
   "metadata": {},
   "outputs": [],
   "source": [
    "lzf_file = cpu_lzf.groupby('file').agg(['mean', 'std', 'min', 'max'])"
   ]
  },
  {
   "cell_type": "code",
   "execution_count": null,
   "metadata": {},
   "outputs": [],
   "source": [
    "# drop first val, because of setup latency\n",
    "cpu_lzf = cpu_lzf[1:]"
   ]
  },
  {
   "cell_type": "code",
   "execution_count": null,
   "metadata": {},
   "outputs": [],
   "source": [
    "file_groups = cpu_lzf.groupby('file')"
   ]
  },
  {
   "cell_type": "code",
   "execution_count": null,
   "metadata": {},
   "outputs": [],
   "source": [
    "# find stds for each group\n",
    "stds = file_groups.aggregate(np.std)\n",
    "stds = stds.replace(np.NaN, 0)"
   ]
  },
  {
   "cell_type": "code",
   "execution_count": null,
   "metadata": {},
   "outputs": [],
   "source": [
    "# find mean values\n",
    "means = file_groups.aggregate(np.mean)"
   ]
  },
  {
   "cell_type": "code",
   "execution_count": null,
   "metadata": {},
   "outputs": [],
   "source": [
    "# find sample bounds\n",
    "upper = means + (stds * 3)\n",
    "lower = means - (stds * 3)"
   ]
  },
  {
   "cell_type": "code",
   "execution_count": null,
   "metadata": {},
   "outputs": [],
   "source": [
    "orig_len = len(ecoli)\n",
    "ecoli = file_groups.get_group('canterbury-large/E.coli')\n",
    "compress_idx = [np.abs(ecoli.compress_us-ecoli.compress_us.mean())<= 3*ecoli.compress_us.std()]\n",
    "decompress_idx = [np.abs( ecoli.decompress_us-ecoli.decompress_us.mean() )<= 3*ecoli.decompress_us.std()]\n",
    "compress_decomp_idx = compress_idx and decompress_idx\n",
    "in_std_len = len(ecoli[compress_decomp_idx[0]])\n",
    "print('Removed {} of {} records, outside of 3 std dvs'.format(orig_len - in_std_len, orig_len))\n",
    "f, axarr = plt.subplots(1, 2, figsize=(12, 8))\n",
    "axarr[0].bar(1, ecoli[compress_decomp_idx[0]]['compress_us'].mean())\n",
    "axarr[1].bar(1, ecoli[compress_decomp_idx[0]]['decompress_us'].mean())"
   ]
  },
  {
   "cell_type": "code",
   "execution_count": null,
   "metadata": {},
   "outputs": [],
   "source": [
    "ecoli.alg.iloc[0]"
   ]
  },
  {
   "cell_type": "code",
   "execution_count": null,
   "metadata": {},
   "outputs": [],
   "source": [
    "len([c for c in compress_decomp_idx[0] if c])"
   ]
  },
  {
   "cell_type": "code",
   "execution_count": null,
   "metadata": {},
   "outputs": [],
   "source": [
    "files = list(file_groups.groups.keys())\n"
   ]
  },
  {
   "cell_type": "code",
   "execution_count": null,
   "metadata": {},
   "outputs": [],
   "source": [
    "CompressOut = namedtuple('CompressOut', 'path type')"
   ]
  },
  {
   "cell_type": "code",
   "execution_count": null,
   "metadata": {},
   "outputs": [],
   "source": [
    "compress_outs = [\n",
    "    CompressOut('../benchmarks/bzip.out', 'bzip'),\n",
    "    CompressOut('../benchmarks/gzip.out', 'gzip'),\n",
    "    CompressOut('../benchmarks/lz4.out', 'lz4'),\n",
    "    CompressOut('../benchmarks/lzf.out', 'lzf'),\n",
    "    CompressOut('../benchmarks/lzma.out', 'lzma'),\n",
    "    CompressOut('../benchmarks/lzo.out', 'lzo'),\n",
    "    CompressOut('../benchmarks/snappy.out', 'snappy')\n",
    "]"
   ]
  },
  {
   "cell_type": "code",
   "execution_count": null,
   "metadata": {},
   "outputs": [],
   "source": [
    "compressed_dfs = [\n",
    "    pd.read_csv(c.path, sep='|', header=None) for c in compress_outs\n",
    "]"
   ]
  },
  {
   "cell_type": "code",
   "execution_count": null,
   "metadata": {},
   "outputs": [],
   "source": [
    "fig, axarr = plt.subplots(25, 3, figsize=(24, 64))\n",
    "metrics = ['comp_size', 'compress_us', 'decompress_us']\n",
    "i = 0\n",
    "algs = []\n",
    "file_names = None\n",
    "for c_df in compressed_dfs:\n",
    "    i += 1\n",
    "    c_df.columns = ['alg', 'comp_size', 'compress_us', 'decompress_us', 'file', 'block']\n",
    "    algs.append(c_df.alg.iloc[0])\n",
    "    c_df = c_df.groupby('file')\n",
    "    if not file_names:\n",
    "        file_names = list(c_df.groups.keys())\n",
    "        file_names = [f.replace('//', '/') for f in files]\n",
    "    files = list(c_df.groups.keys())\n",
    "    assert [f.replace('//', '/') for f in files] == file_names\n",
    "    \n",
    "    for f in range(len(files)):\n",
    "        file_df = c_df.get_group(files[f])\n",
    "        file_df_len = len(file_df)\n",
    "        if file_df_len > 1:\n",
    "            compress_idx = [\n",
    "                np.abs(file_df.compress_us-file_df.compress_us.mean())<= 3*file_df.compress_us.std()]\n",
    "            decompress_idx = [\n",
    "                np.abs(file_df.decompress_us-file_df.decompress_us.mean())<= 3*file_df.decompress_us.std()]\n",
    "            comp_and_decomp = compress_idx and decompress_idx\n",
    "        else:\n",
    "            # quick and dirty way to handle the 1 block example\n",
    "            comp_and_decomp = [[True]]\n",
    "        comp_and_decomp_len = len([c for c in comp_and_decomp[0] if c])\n",
    "        print('{}, {}, Removed {} of {} records'.format(file_df.alg.iloc[0], file_df.file.iloc[0],\n",
    "                                                        file_df_len - comp_and_decomp_len, file_df_len))\n",
    "        for m in range(len(metrics)):\n",
    "            axarr[f, m].bar(i, file_df[comp_and_decomp[0]][metrics[m]].mean())\n",
    "for f in range(len(files)):\n",
    "    axarr[f, 0].set_ylabel(files[f])\n",
    "    for m in range(len(metrics)):\n",
    "        axarr[f, m].set_title(metrics[m])\n",
    "        axarr[f, m].set_xticks(range(len(algs) + 1))\n",
    "        axarr[f, m].set_xticklabels([''] + algs, minor=False)\n",
    "plt.subplots_adjust(top=0.92, bottom=0.08, hspace=0.3)\n",
    "#plt.show()\n",
    "plt.savefig('compression_algorithms_by_file_smallest.png')"
   ]
  },
  {
   "cell_type": "code",
   "execution_count": null,
   "metadata": {},
   "outputs": [],
   "source": []
  }
 ],
 "metadata": {
  "kernelspec": {
   "display_name": "Python 3",
   "language": "python",
   "name": "python3"
  },
  "language_info": {
   "codemirror_mode": {
    "name": "ipython",
    "version": 3
   },
   "file_extension": ".py",
   "mimetype": "text/x-python",
   "name": "python",
   "nbconvert_exporter": "python",
   "pygments_lexer": "ipython3",
   "version": "3.6.4"
  }
 },
 "nbformat": 4,
 "nbformat_minor": 2
}
