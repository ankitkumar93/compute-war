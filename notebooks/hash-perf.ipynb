{
 "cells": [
  {
   "cell_type": "code",
   "execution_count": 115,
   "metadata": {},
   "outputs": [],
   "source": [
    "import numpy as np\n",
    "import scipy as sp\n",
    "import pandas as pd\n",
    "import matplotlib\n",
    "import matplotlib.pyplot as plt\n",
    "from collections import namedtuple\n",
    "from collections import OrderedDict\n",
    "import os\n",
    "\n",
    "font = {'family' : 'DejaVu Sans',\n",
    "        'weight': 'normal',\n",
    "        'size'   : 14}\n",
    "\n",
    "matplotlib.rc('font', **font)\n",
    "\n",
    "bar_codes = ['#7293cb', '#e1974c', '#84ba5b', '#d35e60', '#808585', '#9067a7',\n",
    "             '#ab6857', '#ccc210']\n",
    "line_codes = ['#396ab1', '#da7c30', '#3f9651', '#cc2529', '#535154', '#6b4c9a',\n",
    "              '#922428', '#948b3d']"
   ]
  },
  {
   "cell_type": "code",
   "execution_count": null,
   "metadata": {},
   "outputs": [],
   "source": [
    "data_dir = \"../results\"\n",
    "hash_data_file = 'hash_perf.{}'\n",
    "hash_file_sufix = [str(i) for i in range(1, 11)]"
   ]
  },
  {
   "cell_type": "code",
   "execution_count": null,
   "metadata": {},
   "outputs": [],
   "source": [
    "for i in hash_file_sufix:\n",
    "    mb_file = open('hash_perf_mb.{}'.format(i), 'w')\n",
    "    sb_file = open('hash_perf_sb.{}'.format(i), 'w')\n",
    "    with open(os.path.join(data_dir, hash_data_file.format(1))) as file:\n",
    "        mb_lines = 0\n",
    "        sb_lines = 0\n",
    "        lines = file.readlines()\n",
    "        for l in lines:\n",
    "            if l.count('|') == 5:\n",
    "                mb_file.write(l)\n",
    "                mb_lines += 1\n",
    "            if l.count('|') == 4:\n",
    "                sb_file.write(l)\n",
    "                sb_lines += 1\n",
    "        print(mb_lines, sb_lines, len(lines))\n",
    "        assert mb_lines + sb_lines == len(lines)\n",
    "    mb_file.close()\n",
    "    sb_file.close()"
   ]
  },
  {
   "cell_type": "code",
   "execution_count": null,
   "metadata": {},
   "outputs": [],
   "source": [
    "sb_hash_file = \"hash_perf_sb.{}\"\n",
    "sb_columns = \"FilePath|BlockIndex|Algo|TimeElapsedUS\".split('|')\n",
    "mb_hash_file = \"hash_perf_mb.{}\"\n",
    "mb_columns = \"FilePath|WindowIndex|Algo|TimeElapsedUS|WindowSize\".split('|')"
   ]
  },
  {
   "cell_type": "code",
   "execution_count": 127,
   "metadata": {},
   "outputs": [
    {
     "name": "stdout",
     "output_type": "stream",
     "text": [
      "[8.029831528933864, 8.029831528933864, 8.029831528933864, 8.029831528933864, 8.029831528933864, 8.029831528933864, 8.029831528933864, 8.029831528933864, 8.029831528933864, 8.029831528933864]\n",
      "[2.0318093849544763, 2.0318093849544763, 2.0318093849544763, 2.0318093849544763, 2.0318093849544763, 2.0318093849544763, 2.0318093849544763, 2.0318093849544763, 2.0318093849544763, 2.0318093849544763]\n",
      "[40.13601001033676, 40.13601001033676, 40.13601001033676, 40.13601001033676, 40.13601001033676, 40.13601001033676, 40.13601001033676, 40.13601001033676, 40.13601001033676, 40.13601001033676]\n",
      "[4.868530033699024, 4.868530033699024, 4.868530033699024, 4.868530033699024, 4.868530033699024, 4.868530033699024, 4.868530033699024, 4.868530033699024, 4.868530033699024, 4.868530033699024]\n",
      "[1.3810111869824204, 1.3810111869824204, 1.3810111869824204, 1.3810111869824204, 1.3810111869824204, 1.3810111869824204, 1.3810111869824204, 1.3810111869824204, 1.3810111869824204, 1.3810111869824204]\n",
      "[2.4164348878277457, 2.4164348878277457, 2.4164348878277457, 2.4164348878277457, 2.4164348878277457, 2.4164348878277457, 2.4164348878277457, 2.4164348878277457, 2.4164348878277457, 2.4164348878277457]\n"
     ]
    },
    {
     "data": {
      "image/png": "[encoded data removed]",
      "text/plain": [
       "<matplotlib.figure.Figure at 0x7f7e2f782b70>"
      ]
     },
     "metadata": {},
     "output_type": "display_data"
    }
   ],
   "source": [
    "sha256_means = []\n",
    "sha256_stds = []\n",
    "skein256_means = []\n",
    "skein256_stds = []\n",
    "sha256_MB_means = []\n",
    "sha256_MB_stds = []\n",
    "\n",
    "algs = ['sha256_MB', 'sha256', 'skein256']\n",
    "\n",
    "for i in hash_file_sufix:\n",
    "    sb_df = pd.read_csv(sb_hash_file.format(1), sep='|', header=None)\n",
    "    sb_df = sb_df.drop(4, axis=1)\n",
    "    sb_df.columns = sb_columns\n",
    "    alg_group = sb_df.groupby('Algo')\n",
    "    \n",
    "    sha256_means.append(alg_group.aggregate(np.mean).TimeElapsedUS['Sha256'])\n",
    "    skein256_means.append(alg_group.aggregate(np.mean).TimeElapsedUS['Skein256'])\n",
    "    \n",
    "    sha256_stds.append(alg_group.aggregate(np.std).TimeElapsedUS['Sha256'])\n",
    "    skein256_stds.append(alg_group.aggregate(np.std).TimeElapsedUS['Skein256'])\n",
    "\n",
    "    mb_df = pd.read_csv(os.path.join(mb_hash_file.format(1)), sep='|', header=None)\n",
    "    mb_df = mb_df.drop(5, axis=1)\n",
    "    mb_df.columns = mb_columns\n",
    "    win_groups = mb_df.groupby(\"WindowSize\")\n",
    "    \n",
    "    sha256_MB_means.append(win_groups.get_group(8).TimeElapsedUS.mean() / 8)\n",
    "    sha256_MB_stds.append(win_groups.get_group(8).TimeElapsedUS.std())\n",
    "\n",
    "print(sha256_means)\n",
    "print(sha256_stds)\n",
    "print(skein256_means)\n",
    "print(skein256_stds)\n",
    "print(sha256_MB_means)\n",
    "print(sha256_MB_stds)\n",
    "\n",
    "hash_means = pd.DataFrame({\n",
    "    'sha256_MB': sha256_MB_means,\n",
    "    'sha256': sha256_means,\n",
    "    'skein256': skein256_means\n",
    "})\n",
    "\n",
    "fig, ax = plt.subplots(1, 1, figsize=(6, 4))\n",
    "for a in range(len(algs)):\n",
    "    ax.bar(a + 1, hash_means[algs[a]].mean(), color=bar_codes[a])\n",
    "ax.set_xlim(0, 4)\n",
    "ax.set_xticks(range(0, 4))\n",
    "ax.set_xticklabels([''] + algs)\n",
    "ax.set_ylabel('microseconds')\n",
    "fig.suptitle(\"Hash Performance\")\n",
    "\n",
    "ann_str = \"{0:.2f} $\\mu$s per block\".format(hash_means.sha256_MB.mean())\n",
    "\n",
    "ax.annotate(ann_str, xy=(1, hash_means.sha256_MB.mean()),\n",
    "            arrowprops=dict(arrowstyle=\"->\"),\n",
    "            xytext=(-40, +70), textcoords='offset points')\n",
    "#plt.show()\n",
    "plt.savefig('hash_performance.png')"
   ]
  },
  {
   "cell_type": "code",
   "execution_count": 92,
   "metadata": {},
   "outputs": [],
   "source": [
    "mb_hash_file = \"hash_perf_mb.{}\"\n",
    "mb_columns = \"FilePath|WindowIndex|Algo|TimeElapsedUS|WindowSize\".split('|')"
   ]
  },
  {
   "cell_type": "code",
   "execution_count": 105,
   "metadata": {},
   "outputs": [],
   "source": [
    "mb_df = pd.read_csv(os.path.join(mb_hash_file.format(1)), sep='|', header=None)\n",
    "mb_df = mb_df.drop(5, axis=1)\n",
    "mb_df.columns = mb_columns\n",
    "win_groups = mb_df.groupby(\"WindowSize\")"
   ]
  },
  {
   "cell_type": "code",
   "execution_count": 112,
   "metadata": {},
   "outputs": [
    {
     "data": {
      "text/plain": [
       "1.3810111869824204"
      ]
     },
     "execution_count": 112,
     "metadata": {},
     "output_type": "execute_result"
    }
   ],
   "source": [
    "win_groups.get_group(8).TimeElapsedUS.mean() / 8"
   ]
  },
  {
   "cell_type": "code",
   "execution_count": 95,
   "metadata": {},
   "outputs": [
    {
     "data": {
      "text/html": [
       "<div>\n",
       "<style scoped>\n",
       "    .dataframe tbody tr th:only-of-type {\n",
       "        vertical-align: middle;\n",
       "    }\n",
       "\n",
       "    .dataframe tbody tr th {\n",
       "        vertical-align: top;\n",
       "    }\n",
       "\n",
       "    .dataframe thead th {\n",
       "        text-align: right;\n",
       "    }\n",
       "</style>\n",
       "<table border=\"1\" class=\"dataframe\">\n",
       "  <thead>\n",
       "    <tr style=\"text-align: right;\">\n",
       "      <th></th>\n",
       "      <th>FilePath</th>\n",
       "      <th>WindowIndex</th>\n",
       "      <th>Algo</th>\n",
       "      <th>TimeElapsedUS</th>\n",
       "      <th>WindowSize</th>\n",
       "    </tr>\n",
       "  </thead>\n",
       "  <tbody>\n",
       "    <tr>\n",
       "      <th>0</th>\n",
       "      <td>../dataset/canterbury-large/bible.txt</td>\n",
       "      <td>0</td>\n",
       "      <td>Sha256MB</td>\n",
       "      <td>18</td>\n",
       "      <td>1</td>\n",
       "    </tr>\n",
       "    <tr>\n",
       "      <th>1</th>\n",
       "      <td>../dataset/canterbury-large/bible.txt</td>\n",
       "      <td>1</td>\n",
       "      <td>Sha256MB</td>\n",
       "      <td>11</td>\n",
       "      <td>1</td>\n",
       "    </tr>\n",
       "    <tr>\n",
       "      <th>2</th>\n",
       "      <td>../dataset/canterbury-large/bible.txt</td>\n",
       "      <td>2</td>\n",
       "      <td>Sha256MB</td>\n",
       "      <td>11</td>\n",
       "      <td>1</td>\n",
       "    </tr>\n",
       "    <tr>\n",
       "      <th>3</th>\n",
       "      <td>../dataset/canterbury-large/bible.txt</td>\n",
       "      <td>3</td>\n",
       "      <td>Sha256MB</td>\n",
       "      <td>11</td>\n",
       "      <td>1</td>\n",
       "    </tr>\n",
       "    <tr>\n",
       "      <th>4</th>\n",
       "      <td>../dataset/canterbury-large/bible.txt</td>\n",
       "      <td>4</td>\n",
       "      <td>Sha256MB</td>\n",
       "      <td>11</td>\n",
       "      <td>1</td>\n",
       "    </tr>\n",
       "  </tbody>\n",
       "</table>\n",
       "</div>"
      ],
      "text/plain": [
       "                                FilePath  WindowIndex      Algo  \\\n",
       "0  ../dataset/canterbury-large/bible.txt            0  Sha256MB   \n",
       "1  ../dataset/canterbury-large/bible.txt            1  Sha256MB   \n",
       "2  ../dataset/canterbury-large/bible.txt            2  Sha256MB   \n",
       "3  ../dataset/canterbury-large/bible.txt            3  Sha256MB   \n",
       "4  ../dataset/canterbury-large/bible.txt            4  Sha256MB   \n",
       "\n",
       "   TimeElapsedUS  WindowSize  \n",
       "0             18           1  \n",
       "1             11           1  \n",
       "2             11           1  \n",
       "3             11           1  \n",
       "4             11           1  "
      ]
     },
     "execution_count": 95,
     "metadata": {},
     "output_type": "execute_result"
    }
   ],
   "source": [
    "mb_df"
   ]
  },
  {
   "cell_type": "code",
   "execution_count": null,
   "metadata": {},
   "outputs": [],
   "source": [
    "alg_group = sb_df.groupby('Algo')"
   ]
  },
  {
   "cell_type": "code",
   "execution_count": null,
   "metadata": {},
   "outputs": [],
   "source": [
    "alg_group.aggregate(np.mean).BlockIndex['Sha256']"
   ]
  },
  {
   "cell_type": "code",
   "execution_count": null,
   "metadata": {},
   "outputs": [],
   "source": [
    "alg_group.aggregate(np.std)"
   ]
  },
  {
   "cell_type": "code",
   "execution_count": 182,
   "metadata": {},
   "outputs": [
    {
     "data": {
      "image/png": "[encoded data removed]",
      "text/plain": [
       "<matplotlib.figure.Figure at 0x7f7e2e5a0d30>"
      ]
     },
     "metadata": {},
     "output_type": "display_data"
    }
   ],
   "source": [
    "fig, ax = plt.subplots(1, 1, figsize=(8, 6))\n",
    "algs = ['sha256', 'skein256', 'MD5']\n",
    "stds = [16.7326, 16.9214, 16.4905]\n",
    "for i in range(len(algs)):\n",
    "    ax.bar(i+1, stds[i], color=bar_codes[i])\n",
    "ax.set_ylim(16, 17)\n",
    "ax.set_xticks(range(1, len(algs) + 1))\n",
    "ax.set_xticklabels(algs)\n",
    "ax.set_ylabel(\" Std Dev of hash value\")\n",
    "fig.suptitle(\"Hash Randomness\")\n",
    "plt.savefig('hash_randomness_ylimited.png')\n",
    "\n",
    "#plt.show()\n"
   ]
  },
  {
   "cell_type": "code",
   "execution_count": 184,
   "metadata": {},
   "outputs": [
    {
     "data": {
      "image/png": "[encoded data removed]",
      "text/plain": [
       "<matplotlib.figure.Figure at 0x7f7e2e6b45c0>"
      ]
     },
     "metadata": {},
     "output_type": "display_data"
    }
   ],
   "source": [
    "fig, ax = plt.subplots(1, 1, figsize=(8, 6))\n",
    "algs = ['sha256', 'skein256', 'MD5']\n",
    "stds = [16.7326, 16.9214, 16.4905]\n",
    "for i in range(len(algs)):\n",
    "    ax.bar(i+1, stds[i], color=bar_codes[i])\n",
    "ax.set_ylim(0, 20)\n",
    "ax.set_xticks(range(1, len(algs) + 1))\n",
    "ax.set_xticklabels(algs)\n",
    "ax.set_ylabel(\"Std Dev of hash value\")\n",
    "fig.suptitle(\"Hash Randomness\")\n",
    "plt.savefig('hash_randomness.png')\n",
    "\n",
    "#plt.show()"
   ]
  },
  {
   "cell_type": "markdown",
   "metadata": {},
   "source": [
    "# combine hash compress"
   ]
  },
  {
   "cell_type": "code",
   "execution_count": null,
   "metadata": {},
   "outputs": [],
   "source": [
    "prefix = 'hc_'\n",
    "skein = 'sk'\n",
    "shaw = 'sh'\n",
    "lz4 = 'lz4'\n",
    "lzf = 'lzf'\n",
    "hash_file_sufix = [str(i) for i in range(1, 11)]"
   ]
  }
 ],
 "metadata": {
  "kernelspec": {
   "display_name": "Python 3",
   "language": "python",
   "name": "python3"
  },
  "language_info": {
   "codemirror_mode": {
    "name": "ipython",
    "version": 3
   },
   "file_extension": ".py",
   "mimetype": "text/x-python",
   "name": "python",
   "nbconvert_exporter": "python",
   "pygments_lexer": "ipython3",
   "version": "3.6.4"
  }
 },
 "nbformat": 4,
 "nbformat_minor": 2
}
