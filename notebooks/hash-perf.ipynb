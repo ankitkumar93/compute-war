{
 "cells": [
  {
   "cell_type": "code",
   "execution_count": 4,
   "metadata": {},
   "outputs": [],
   "source": [
    "import numpy as np\n",
    "import scipy as sp\n",
    "import pandas as pd\n",
    "import matplotlib\n",
    "import matplotlib.pyplot as plt\n",
    "from collections import namedtuple\n",
    "from collections import OrderedDict\n",
    "import os\n",
    "\n",
    "font = {'family' : 'DejaVu Sans',\n",
    "        'weight': 'normal',\n",
    "        'size'   : 14}\n",
    "\n",
    "matplotlib.rc('font', **font)\n",
    "\n",
    "bar_codes = ['#7293cb', '#e1974c', '#84ba5b', '#d35e60', '#808585', '#9067a7',\n",
    "             '#ab6857', '#ccc210']\n",
    "line_codes = ['#396ab1', '#da7c30', '#3f9651', '#cc2529', '#535154', '#6b4c9a',\n",
    "              '#922428', '#948b3d']"
   ]
  },
  {
   "cell_type": "code",
   "execution_count": 22,
   "metadata": {},
   "outputs": [],
   "source": [
    "data_dir = \"../results\"\n",
    "hash_data_file = 'hash_perf.{}'\n",
    "hash_file_sufix = [str(i) for i in range(1, 11)]"
   ]
  },
  {
   "cell_type": "code",
   "execution_count": 31,
   "metadata": {},
   "outputs": [
    {
     "name": "stdout",
     "output_type": "stream",
     "text": [
      "260916 110286 371202\n",
      "260916 110286 371202\n",
      "260916 110286 371202\n",
      "260916 110286 371202\n",
      "260916 110286 371202\n",
      "260916 110286 371202\n",
      "260916 110286 371202\n",
      "260916 110286 371202\n",
      "260916 110286 371202\n",
      "260916 110286 371202\n"
     ]
    }
   ],
   "source": [
    "for i in hash_file_sufix:\n",
    "    mb_file = open('hash_perf_mb.{}'.format(i), 'w')\n",
    "    sb_file = open('hash_perf_sb.{}'.format(i), 'w')\n",
    "    with open(os.path.join(data_dir, hash_data_file.format(1))) as file:\n",
    "        mb_lines = 0\n",
    "        sb_lines = 0\n",
    "        lines = file.readlines()\n",
    "        for l in lines:\n",
    "            if l.count('|') == 5:\n",
    "                mb_file.write(l)\n",
    "                mb_lines += 1\n",
    "            if l.count('|') == 4:\n",
    "                sb_file.write(l)\n",
    "                sb_lines += 1\n",
    "        print(mb_lines, sb_lines, len(lines))\n",
    "        assert mb_lines + sb_lines == len(lines)\n",
    "    mb_file.close()\n",
    "    sb_file.close()"
   ]
  },
  {
   "cell_type": "code",
   "execution_count": 45,
   "metadata": {},
   "outputs": [],
   "source": [
    "sb_hash_file = \"hash_perf_sb.{}\"\n",
    "sb_columns = \"FilePath|BlockIndex|Algo|TimeElapsedUS\".split('|')"
   ]
  },
  {
   "cell_type": "code",
   "execution_count": 60,
   "metadata": {},
   "outputs": [
    {
     "name": "stdout",
     "output_type": "stream",
     "text": [
      "[7047.379667410188, 7047.379667410188, 7047.379667410188, 7047.379667410188, 7047.379667410188, 7047.379667410188, 7047.379667410188, 7047.379667410188, 7047.379667410188, 7047.379667410188]\n",
      "[6422.966446736576, 6422.966446736576, 6422.966446736576, 6422.966446736576, 6422.966446736576, 6422.966446736576, 6422.966446736576, 6422.966446736576, 6422.966446736576, 6422.966446736576]\n",
      "[7046.379667410188, 7046.379667410188, 7046.379667410188, 7046.379667410188, 7046.379667410188, 7046.379667410188, 7046.379667410188, 7046.379667410188, 7046.379667410188, 7046.379667410188]\n",
      "[6422.966446736576, 6422.966446736576, 6422.966446736576, 6422.966446736576, 6422.966446736576, 6422.966446736576, 6422.966446736576, 6422.966446736576, 6422.966446736576, 6422.966446736576]\n"
     ]
    }
   ],
   "source": [
    "sha256_means = []\n",
    "sha256_stds = []\n",
    "skein256_means = []\n",
    "skein256_stds = []\n",
    "\n",
    "for i in hash_file_sufix:\n",
    "    sb_df = pd.read_csv(sb_hash_file.format(1), sep='|', header=None)\n",
    "    sb_df = sb_df.drop(4, axis=1)\n",
    "    sb_df.columns = sb_columns\n",
    "    alg_group = sb_df.groupby('Algo')\n",
    "    \n",
    "    sha256_means.append(alg_group.aggregate(np.mean).TimeElapsedUS['Sha256'])\n",
    "    skein256_means.append(alg_group.aggregate(np.mean).TimeElapsedUS['Skein256'])\n",
    "    \n",
    "    sha256_stds.append(alg_group.aggregate(np.std).BlockIndex['Sha256'])\n",
    "    skein256_stds.append(alg_group.aggregate(np.std).BlockIndex['Skein256'])\n",
    "\n",
    "print(sha256_means)\n",
    "print(sha256_stds)\n",
    "print(skein256_means)\n",
    "print(skein256_stds)"
   ]
  },
  {
   "cell_type": "code",
   "execution_count": 47,
   "metadata": {},
   "outputs": [],
   "source": [
    "sb_df = sb_df.drop(4, axis=1)\n",
    "sb_df.columns = sb_columns"
   ]
  },
  {
   "cell_type": "code",
   "execution_count": 50,
   "metadata": {},
   "outputs": [],
   "source": [
    "alg_group = sb_df.groupby('Algo')"
   ]
  },
  {
   "cell_type": "code",
   "execution_count": 57,
   "metadata": {},
   "outputs": [
    {
     "data": {
      "text/plain": [
       "7047.379667410188"
      ]
     },
     "execution_count": 57,
     "metadata": {},
     "output_type": "execute_result"
    }
   ],
   "source": [
    "alg_group.aggregate(np.mean).BlockIndex['Sha256']"
   ]
  },
  {
   "cell_type": "code",
   "execution_count": 59,
   "metadata": {},
   "outputs": [
    {
     "data": {
      "text/html": [
       "<div>\n",
       "<style scoped>\n",
       "    .dataframe tbody tr th:only-of-type {\n",
       "        vertical-align: middle;\n",
       "    }\n",
       "\n",
       "    .dataframe tbody tr th {\n",
       "        vertical-align: top;\n",
       "    }\n",
       "\n",
       "    .dataframe thead th {\n",
       "        text-align: right;\n",
       "    }\n",
       "</style>\n",
       "<table border=\"1\" class=\"dataframe\">\n",
       "  <thead>\n",
       "    <tr style=\"text-align: right;\">\n",
       "      <th></th>\n",
       "      <th>BlockIndex</th>\n",
       "      <th>TimeElapsedUS</th>\n",
       "    </tr>\n",
       "    <tr>\n",
       "      <th>Algo</th>\n",
       "      <th></th>\n",
       "      <th></th>\n",
       "    </tr>\n",
       "  </thead>\n",
       "  <tbody>\n",
       "    <tr>\n",
       "      <th>Sha256</th>\n",
       "      <td>6422.966447</td>\n",
       "      <td>2.031809</td>\n",
       "    </tr>\n",
       "    <tr>\n",
       "      <th>Skein256</th>\n",
       "      <td>6422.966447</td>\n",
       "      <td>4.868530</td>\n",
       "    </tr>\n",
       "  </tbody>\n",
       "</table>\n",
       "</div>"
      ],
      "text/plain": [
       "           BlockIndex  TimeElapsedUS\n",
       "Algo                                \n",
       "Sha256    6422.966447       2.031809\n",
       "Skein256  6422.966447       4.868530"
      ]
     },
     "execution_count": 59,
     "metadata": {},
     "output_type": "execute_result"
    }
   ],
   "source": [
    "alg_group.aggregate(np.std)"
   ]
  },
  {
   "cell_type": "code",
   "execution_count": null,
   "metadata": {},
   "outputs": [],
   "source": []
  }
 ],
 "metadata": {
  "kernelspec": {
   "display_name": "Python 3",
   "language": "python",
   "name": "python3"
  },
  "language_info": {
   "codemirror_mode": {
    "name": "ipython",
    "version": 3
   },
   "file_extension": ".py",
   "mimetype": "text/x-python",
   "name": "python",
   "nbconvert_exporter": "python",
   "pygments_lexer": "ipython3",
   "version": "3.6.4"
  }
 },
 "nbformat": 4,
 "nbformat_minor": 2
}
